{
 "cells": [
  {
   "cell_type": "code",
   "execution_count": 1,
   "metadata": {},
   "outputs": [],
   "source": [
    "%load_ext autoreload\n",
    "%autoreload 2"
   ]
  },
  {
   "cell_type": "code",
   "execution_count": 113,
   "metadata": {},
   "outputs": [],
   "source": [
    "import os\n",
    "import torch\n",
    "import blobfile as bf\n",
    "from transformers import AutoTokenizer, AutoModel, AutoConfig\n",
    "from transformer_lens import HookedTransformer\n",
    "from typing import Any\n",
    "import numpy as np\n",
    "import plotly.express as px\n",
    "from torch.utils.data import Subset\n",
    "import plotly.graph_objects as go\n",
    "import json\n",
    "from cupbearer import utils, data, detectors, tasks, models, scripts"
   ]
  },
  {
   "cell_type": "code",
   "execution_count": 3,
   "metadata": {},
   "outputs": [],
   "source": [
    "os.environ[\"NO_GCE_CHECK\"] = \"true\""
   ]
  },
  {
   "cell_type": "code",
   "execution_count": 4,
   "metadata": {},
   "outputs": [
    {
     "data": {
      "text/plain": [
       "['camel_task.json', 'hex_task.json', 'ifelse_task.json', 'indent_task.json']"
      ]
     },
     "execution_count": 4,
     "metadata": {},
     "output_type": "execute_result"
    }
   ],
   "source": [
    "list(bf.listdir(\"gs://arc-ml-public/distinctions/datasets\"))"
   ]
  },
  {
   "cell_type": "code",
   "execution_count": 29,
   "metadata": {},
   "outputs": [],
   "source": [
    "with bf.BlobFile(\"gs://arc-ml-public/distinctions/datasets/ifelse_task.json\") as f:\n",
    "    task_config = json.load(f)"
   ]
  },
  {
   "cell_type": "code",
   "execution_count": 59,
   "metadata": {},
   "outputs": [
    {
     "data": {
      "text/plain": [
       "('gs://arc-ml-public/distinctions/models/main.path',\n",
       " 'gs://arc-ml-public/distinctions/models/clean_ifelse.path')"
      ]
     },
     "execution_count": 59,
     "metadata": {},
     "output_type": "execute_result"
    }
   ],
   "source": [
    "task_config[\"model_path\"], task_config[\"clean_model_path\"]"
   ]
  },
  {
   "cell_type": "code",
   "execution_count": 7,
   "metadata": {},
   "outputs": [
    {
     "name": "stdout",
     "output_type": "stream",
     "text": [
      "Loaded pretrained model attn-only-1l into HookedTransformer\n",
      "Moving model to device:  mps\n"
     ]
    },
    {
     "data": {
      "text/plain": [
       "<All keys matched successfully>"
      ]
     },
     "execution_count": 7,
     "metadata": {},
     "output_type": "execute_result"
    }
   ],
   "source": [
    "model = HookedTransformer.from_pretrained(\n",
    "    \"attn-only-1l\",\n",
    "    fold_ln=False,\n",
    "    center_writing_weights=False,\n",
    "    center_unembed=False,\n",
    "    move_to_device=False,\n",
    "    fold_value_biases=False,\n",
    ").to(\"mps\")\n",
    "with bf.BlobFile(\"gs://arc-ml-public/distinctions/models/main.pth\", \"rb\") as fh:\n",
    "    state_dict = torch.load(fh, map_location=\"mps\")\n",
    "    state_dict[\"unembed.b_U\"] = model.unembed.b_U\n",
    "model.load_state_dict(state_dict)"
   ]
  },
  {
   "cell_type": "code",
   "execution_count": 67,
   "metadata": {},
   "outputs": [
    {
     "name": "stdout",
     "output_type": "stream",
     "text": [
      ")\n",
      "    signature = 'D->D' if isComplexType(t)\n",
      " else\n"
     ]
    }
   ],
   "source": [
    "idx = 0\n",
    "print(model.tokenizer.decode(task_config[\"test_anomalous\"][idx][\"prefix_tokens\"]))\n",
    "print(model.tokenizer.decode(task_config[\"test_anomalous\"][idx][\"completion_token\"]))"
   ]
  },
  {
   "cell_type": "code",
   "execution_count": 34,
   "metadata": {},
   "outputs": [
    {
     "data": {
      "text/plain": [
       "[507, 426, 15313, 16, 70, 9485, 10, 647, 543, 90, 65, 75, 603, 261, 65, 75]"
      ]
     },
     "execution_count": 34,
     "metadata": {},
     "output_type": "execute_result"
    }
   ],
   "source": [
    "task_config[\"train\"][0][\"prefix_tokens\"]"
   ]
  },
  {
   "cell_type": "code",
   "execution_count": 33,
   "metadata": {},
   "outputs": [
    {
     "data": {
      "text/plain": [
       "True"
      ]
     },
     "execution_count": 33,
     "metadata": {},
     "output_type": "execute_result"
    }
   ],
   "source": [
    "all(\n",
    "    len(task_config[\"train\"][i][\"prefix_tokens\"]) == 16\n",
    "    for i in range(len(task_config[\"train\"]))\n",
    ")"
   ]
  },
  {
   "cell_type": "code",
   "execution_count": 4,
   "metadata": {},
   "outputs": [],
   "source": [
    "class ARCDataset(torch.utils.data.Dataset):\n",
    "    def __init__(self, data: list[dict[str, Any]]):\n",
    "        self.data = data\n",
    "\n",
    "    def __len__(self):\n",
    "        return len(self.data)\n",
    "\n",
    "    def __getitem__(self, idx):\n",
    "        # Convert the list to a tensor to make sure that pytorch's default collate_fn\n",
    "        # batches the lists into a single tensor (TransformerLens requires that).\n",
    "        # Note that all sequences have the same length in these datasets.\n",
    "        return torch.tensor(\n",
    "            self.data[idx][\"prefix_tokens\"], dtype=torch.long\n",
    "        ), self.data[idx][\"completion_token\"]"
   ]
  },
  {
   "cell_type": "code",
   "execution_count": 5,
   "metadata": {},
   "outputs": [],
   "source": [
    "def arc_task(name: str):\n",
    "    path = f\"gs://arc-ml-public/distinctions/datasets/{name}_task.json\"\n",
    "    with bf.BlobFile(path) as f:\n",
    "        task_data = json.load(f)\n",
    "\n",
    "    model = HookedTransformer.from_pretrained(\n",
    "        \"attn-only-1l\",\n",
    "        fold_ln=False,\n",
    "        center_writing_weights=False,\n",
    "        center_unembed=False,\n",
    "        fold_value_biases=False,\n",
    "    )\n",
    "\n",
    "    # `model_path` seems to have a type, uses a `.path` extension instead of `.pth`\n",
    "    # with bf.BlobFile(task_data[\"model_path\"], \"rb\") as fh:\n",
    "    with bf.BlobFile(\"gs://arc-ml-public/distinctions/models/main.pth\", \"rb\") as fh:\n",
    "        state_dict = torch.load(fh, map_location=\"mps\")\n",
    "        state_dict[\"unembed.b_U\"] = model.unembed.b_U\n",
    "    model.load_state_dict(state_dict)\n",
    "\n",
    "    train_data = ARCDataset(task_data[\"train\"])\n",
    "    normal_test_data = ARCDataset(task_data[\"test_non_anomalous\"])\n",
    "    anomalous_test_data = ARCDataset(task_data[\"test_anomalous\"])\n",
    "\n",
    "    return tasks.Task.from_separate_data(\n",
    "        model=model,\n",
    "        trusted_data=train_data,\n",
    "        clean_test_data=normal_test_data,\n",
    "        anomalous_test_data=anomalous_test_data,\n",
    "    )"
   ]
  },
  {
   "cell_type": "code",
   "execution_count": 123,
   "metadata": {},
   "outputs": [
    {
     "name": "stdout",
     "output_type": "stream",
     "text": [
      "Loaded pretrained model attn-only-1l into HookedTransformer\n"
     ]
    }
   ],
   "source": [
    "task = arc_task(\"hex\")"
   ]
  },
  {
   "cell_type": "code",
   "execution_count": 7,
   "metadata": {},
   "outputs": [],
   "source": [
    "def get_activation_at_last_token(\n",
    "    activation: torch.Tensor, inputs: list[list[int]], name: str\n",
    "):\n",
    "    if activation.ndim == 3:\n",
    "        # Residual stream or equivalent, shape is (batch, seq, hidden)\n",
    "        return activation[:, -1, :]\n",
    "    elif activation.ndim == 4 and activation.shape[-1] == activation.shape[-2]:\n",
    "        # Attention, shape is (batch, num_heads, query, key)\n",
    "        return activation[:, :, -1, :].reshape(activation.shape[0], -1)\n",
    "    elif activation.ndim == 4:\n",
    "        # Query/key/value, shape is (batch, seq, num_heads, hidden)\n",
    "        return activation[:, -1, :, :].reshape(activation.shape[0], -1)\n",
    "    else:\n",
    "        raise ValueError(f\"Unexpected activation shape: {activation.shape}\")"
   ]
  },
  {
   "cell_type": "code",
   "execution_count": 111,
   "metadata": {},
   "outputs": [],
   "source": [
    "names = [\n",
    "    \"blocks.0.hook_attn_out.output\",\n",
    "    # \"blocks.0.attn.hook_pattern.output\",\n",
    "    \"blocks.0.attn.hook_attn_scores.output\",\n",
    "    \"blocks.0.attn.hook_q.output\",\n",
    "    # \"blocks.0.attn.hook_k.output\",\n",
    "    # \"blocks.0.attn.hook_v.output\",\n",
    "    \"ln_final.hook_normalized.output\",\n",
    "]\n",
    "\n",
    "detector = detectors.MahalanobisDetector(\n",
    "    names, get_activation_at_last_token, layer_aggregation=\"mean\"\n",
    ")"
   ]
  },
  {
   "cell_type": "code",
   "execution_count": 112,
   "metadata": {},
   "outputs": [
    {
     "name": "stderr",
     "output_type": "stream",
     "text": [
      "100%|██████████| 256/256 [00:04<00:00, 63.26it/s]\n"
     ]
    },
    {
     "data": {
      "application/vnd.jupyter.widget-view+json": {
       "model_id": "5ffd5273f3c94673a6367f3d7c3478f1",
       "version_major": 2,
       "version_minor": 0
      },
      "text/plain": [
       "Evaluating:   0%|          | 0/32 [00:00<?, ?it/s]"
      ]
     },
     "metadata": {},
     "output_type": "display_data"
    },
    {
     "name": "stderr",
     "output_type": "stream",
     "text": [
      "\u001b[32m2024-04-19 20:50:46.040\u001b[0m | \u001b[1mINFO    \u001b[0m | \u001b[36mcupbearer.detectors.anomaly_detector\u001b[0m:\u001b[36meval\u001b[0m:\u001b[36m138\u001b[0m - \u001b[1mAUC_ROC: 0.9380\u001b[0m\n",
      "\u001b[32m2024-04-19 20:50:46.041\u001b[0m | \u001b[1mINFO    \u001b[0m | \u001b[36mcupbearer.detectors.anomaly_detector\u001b[0m:\u001b[36meval\u001b[0m:\u001b[36m139\u001b[0m - \u001b[1mAP: 0.9033\u001b[0m\n"
     ]
    },
    {
     "data": {
      "text/plain": [
       "({'AUC_ROC': 0.9379844665527344, 'AP': 0.903303738290255},\n",
       " <Figure size 640x480 with 1 Axes>)"
      ]
     },
     "execution_count": 112,
     "metadata": {},
     "output_type": "execute_result"
    },
    {
     "data": {
      "image/png": "[encoded data removed]",
      "text/plain": [
       "<Figure size 640x480 with 1 Axes>"
      ]
     },
     "metadata": {},
     "output_type": "display_data"
    }
   ],
   "source": [
    "scripts.train_detector(\n",
    "    task, detector, save_path=None, eval_batch_size=64, batch_size=64\n",
    ")"
   ]
  },
  {
   "cell_type": "markdown",
   "metadata": {},
   "source": [
    "# Supervised skyline"
   ]
  },
  {
   "cell_type": "code",
   "execution_count": 124,
   "metadata": {},
   "outputs": [],
   "source": [
    "n_train = 512\n",
    "clean_train_data = Subset(task.test_data.normal_data, range(n_train))\n",
    "clean_test_data = Subset(task.test_data.normal_data, range(n_train, 1024))\n",
    "anomalous_train_data = Subset(task.test_data.anomalous_data, range(n_train))\n",
    "anomalous_test_data = Subset(task.test_data.anomalous_data, range(n_train, 1024))\n",
    "\n",
    "supervised_task = tasks.Task.from_separate_data(\n",
    "    model=task.model,\n",
    "    trusted_data=task.trusted_data,\n",
    "    clean_test_data=clean_test_data,\n",
    "    anomalous_test_data=anomalous_test_data,\n",
    "    clean_untrusted_data=clean_train_data,\n",
    "    anomalous_untrusted_data=anomalous_train_data,\n",
    "    untrusted_labels=True,\n",
    ")"
   ]
  },
  {
   "cell_type": "code",
   "execution_count": 131,
   "metadata": {},
   "outputs": [],
   "source": [
    "names = [\n",
    "    \"blocks.0.hook_attn_out.output\",\n",
    "    \"blocks.0.attn.hook_attn_scores.output\",\n",
    "    \"blocks.0.attn.hook_q.output\",\n",
    "    \"ln_final.hook_normalized.output\",\n",
    "]\n",
    "detector = detectors.SupervisedLinearProbe([names[0]], get_activation_at_last_token)"
   ]
  },
  {
   "cell_type": "code",
   "execution_count": 132,
   "metadata": {},
   "outputs": [
    {
     "data": {
      "application/vnd.jupyter.widget-view+json": {
       "model_id": "b6957e899d3941d0b50cd8c4bbd8b6d1",
       "version_major": 2,
       "version_minor": 0
      },
      "text/plain": [
       "Evaluating:   0%|          | 0/16 [00:00<?, ?it/s]"
      ]
     },
     "metadata": {},
     "output_type": "display_data"
    },
    {
     "name": "stderr",
     "output_type": "stream",
     "text": [
      "\u001b[32m2024-04-19 21:02:36.566\u001b[0m | \u001b[1mINFO    \u001b[0m | \u001b[36mcupbearer.detectors.anomaly_detector\u001b[0m:\u001b[36meval\u001b[0m:\u001b[36m138\u001b[0m - \u001b[1mAUC_ROC: 0.9995\u001b[0m\n",
      "\u001b[32m2024-04-19 21:02:36.567\u001b[0m | \u001b[1mINFO    \u001b[0m | \u001b[36mcupbearer.detectors.anomaly_detector\u001b[0m:\u001b[36meval\u001b[0m:\u001b[36m139\u001b[0m - \u001b[1mAP: 0.9995\u001b[0m\n"
     ]
    },
    {
     "data": {
      "text/plain": [
       "({'AUC_ROC': 0.9995498657226562, 'AP': 0.999538515911175},\n",
       " <Figure size 640x480 with 1 Axes>)"
      ]
     },
     "execution_count": 132,
     "metadata": {},
     "output_type": "execute_result"
    },
    {
     "data": {
      "image/png": "[encoded data removed]",
      "text/plain": [
       "<Figure size 640x480 with 1 Axes>"
      ]
     },
     "metadata": {},
     "output_type": "display_data"
    }
   ],
   "source": [
    "scripts.train_detector(\n",
    "    supervised_task, detector, save_path=None, eval_batch_size=64, batch_size=64\n",
    ")"
   ]
  },
  {
   "cell_type": "markdown",
   "metadata": {},
   "source": [
    "# LCAs"
   ]
  },
  {
   "cell_type": "code",
   "execution_count": null,
   "metadata": {},
   "outputs": [],
   "source": [
    "abstract_model = HookedTransformer.from_pretrained(\n",
    "    \"attn-only-1l\",\n",
    "    fold_ln=False,\n",
    "    center_writing_weights=False,\n",
    "    center_unembed=False,\n",
    "    fold_value_biases=False,\n",
    ")\n",
    "names = [\n",
    "    \"blocks.0.hook_attn_out.output\",\n",
    "    # \"blocks.0.attn.hook_attn_scores.output\",\n",
    "    # \"blocks.0.attn.hook_q.output\",\n",
    "    \"ln_final.hook_normalized.output\",\n",
    "]\n",
    "tau_maps = {name: torch.nn.Linear() for name in names}\n",
    "abstraction = detectors.abstraction.LocallyConsistentAbstraction(\n",
    "    tau_maps, abstract_model\n",
    ")"
   ]
  }
 ],
 "metadata": {
  "kernelspec": {
   "display_name": "cupbearer",
   "language": "python",
   "name": "python3"
  },
  "language_info": {
   "codemirror_mode": {
    "name": "ipython",
    "version": 3
   },
   "file_extension": ".py",
   "mimetype": "text/x-python",
   "name": "python",
   "nbconvert_exporter": "python",
   "pygments_lexer": "ipython3",
   "version": "3.10.9"
  }
 },
 "nbformat": 4,
 "nbformat_minor": 2
}
